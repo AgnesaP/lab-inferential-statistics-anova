{
 "cells": [
  {
   "cell_type": "markdown",
   "id": "d1137390-8e15-4765-b3bd-2281e358602b",
   "metadata": {},
   "source": [
    "#### Importing the needed libraries"
   ]
  },
  {
   "cell_type": "code",
   "execution_count": 10,
   "id": "f68a5ee1-06e4-4201-88a6-105663740684",
   "metadata": {},
   "outputs": [],
   "source": [
    "import pandas as pd\n",
    "import numpy as np\n",
    "import scipy.stats as stats\n",
    "import matplotlib.pyplot as plt\n",
    "import seaborn as sns"
   ]
  },
  {
   "cell_type": "markdown",
   "id": "57c7713d-afd0-4de5-aa6a-3422bec7bcee",
   "metadata": {},
   "source": [
    "#### Reading the file"
   ]
  },
  {
   "cell_type": "code",
   "execution_count": 11,
   "id": "0e13bb72-3443-4d14-89c8-cff960442f2b",
   "metadata": {},
   "outputs": [
    {
     "data": {
      "text/html": [
       "<div>\n",
       "<style scoped>\n",
       "    .dataframe tbody tr th:only-of-type {\n",
       "        vertical-align: middle;\n",
       "    }\n",
       "\n",
       "    .dataframe tbody tr th {\n",
       "        vertical-align: top;\n",
       "    }\n",
       "\n",
       "    .dataframe thead th {\n",
       "        text-align: right;\n",
       "    }\n",
       "</style>\n",
       "<table border=\"1\" class=\"dataframe\">\n",
       "  <thead>\n",
       "    <tr style=\"text-align: right;\">\n",
       "      <th></th>\n",
       "      <th>Power</th>\n",
       "      <th>Etching Rate</th>\n",
       "    </tr>\n",
       "  </thead>\n",
       "  <tbody>\n",
       "    <tr>\n",
       "      <th>0</th>\n",
       "      <td>160 W</td>\n",
       "      <td>5.43</td>\n",
       "    </tr>\n",
       "    <tr>\n",
       "      <th>1</th>\n",
       "      <td>180 W</td>\n",
       "      <td>6.24</td>\n",
       "    </tr>\n",
       "    <tr>\n",
       "      <th>2</th>\n",
       "      <td>200 W</td>\n",
       "      <td>8.79</td>\n",
       "    </tr>\n",
       "    <tr>\n",
       "      <th>3</th>\n",
       "      <td>160 W</td>\n",
       "      <td>5.71</td>\n",
       "    </tr>\n",
       "    <tr>\n",
       "      <th>4</th>\n",
       "      <td>180 W</td>\n",
       "      <td>6.71</td>\n",
       "    </tr>\n",
       "    <tr>\n",
       "      <th>5</th>\n",
       "      <td>200 W</td>\n",
       "      <td>9.20</td>\n",
       "    </tr>\n",
       "    <tr>\n",
       "      <th>6</th>\n",
       "      <td>160 W</td>\n",
       "      <td>6.22</td>\n",
       "    </tr>\n",
       "    <tr>\n",
       "      <th>7</th>\n",
       "      <td>180 W</td>\n",
       "      <td>5.98</td>\n",
       "    </tr>\n",
       "    <tr>\n",
       "      <th>8</th>\n",
       "      <td>200 W</td>\n",
       "      <td>7.90</td>\n",
       "    </tr>\n",
       "    <tr>\n",
       "      <th>9</th>\n",
       "      <td>160 W</td>\n",
       "      <td>6.01</td>\n",
       "    </tr>\n",
       "    <tr>\n",
       "      <th>10</th>\n",
       "      <td>180 W</td>\n",
       "      <td>5.66</td>\n",
       "    </tr>\n",
       "    <tr>\n",
       "      <th>11</th>\n",
       "      <td>200 W</td>\n",
       "      <td>8.15</td>\n",
       "    </tr>\n",
       "    <tr>\n",
       "      <th>12</th>\n",
       "      <td>160 W</td>\n",
       "      <td>5.59</td>\n",
       "    </tr>\n",
       "    <tr>\n",
       "      <th>13</th>\n",
       "      <td>180 W</td>\n",
       "      <td>6.60</td>\n",
       "    </tr>\n",
       "    <tr>\n",
       "      <th>14</th>\n",
       "      <td>200 W</td>\n",
       "      <td>7.55</td>\n",
       "    </tr>\n",
       "  </tbody>\n",
       "</table>\n",
       "</div>"
      ],
      "text/plain": [
       "   Power   Etching Rate\n",
       "0   160 W          5.43\n",
       "1   180 W          6.24\n",
       "2   200 W          8.79\n",
       "3   160 W          5.71\n",
       "4   180 W          6.71\n",
       "5   200 W          9.20\n",
       "6   160 W          6.22\n",
       "7   180 W          5.98\n",
       "8   200 W          7.90\n",
       "9   160 W          6.01\n",
       "10  180 W          5.66\n",
       "11  200 W          8.15\n",
       "12  160 W          5.59\n",
       "13  180 W          6.60\n",
       "14  200 W          7.55"
      ]
     },
     "execution_count": 11,
     "metadata": {},
     "output_type": "execute_result"
    }
   ],
   "source": [
    "df = pd.read_excel(\"anova_lab_data.xlsx\")\n",
    "df"
   ]
  },
  {
   "cell_type": "markdown",
   "id": "51b9ed7e-2f22-4451-8199-cffe96f92f85",
   "metadata": {},
   "source": [
    "#### Defining the null hypothesis and the alternate hypothesis"
   ]
  },
  {
   "cell_type": "code",
   "execution_count": 13,
   "id": "7b26284a-aaa8-44b9-be42-5aea33d373d6",
   "metadata": {},
   "outputs": [
    {
     "name": "stdout",
     "output_type": "stream",
     "text": [
      "H0:Levels of power impact the etching rate\n",
      "H1:Levels of power dont have an impact on the etching rate\n"
     ]
    }
   ],
   "source": [
    "H0 = 'Levels of power impact the etching rate'\n",
    "H1 = 'Levels of power dont have an impact on the etching rate'\n",
    "\n",
    "print('H0:' + H0)\n",
    "print('H1:' + H1)"
   ]
  },
  {
   "cell_type": "markdown",
   "id": "308ff99a-38dc-4f7f-b962-0278d97d1ab3",
   "metadata": {},
   "source": [
    "#### Defining functions to check normality and variance homogeneity"
   ]
  },
  {
   "cell_type": "code",
   "execution_count": 14,
   "id": "4f6db4a8-a2a7-427f-8a2a-f46b13a06c82",
   "metadata": {},
   "outputs": [],
   "source": [
    "\n",
    "def check_normality(data):\n",
    "    test_stat_normality, p_value_normality=stats.shapiro(data)\n",
    "    print(\"p value:%.4f\" % p_value_normality)\n",
    "    if p_value_normality <0.05:\n",
    "        print(\"Reject null hypothesis >> Levels of power impact the etching rate\")\n",
    "    else:\n",
    "        print(\"Fail to reject null hypothesis >> Levels of power dont have an impact on the etching rate\")       \n",
    "        \n",
    "        \n",
    "def check_variance_homogeneity(group1, group2):\n",
    "    test_stat_var, p_value_var= stats.levene(group1,group2)\n",
    "    print(\"p value:%.4f\" % p_value_var)\n",
    "    if p_value_var <0.05:\n",
    "        print(\"Reject null hypothesis >> Levels of power impact the etching rate.\")\n",
    "    else:\n",
    "        print(\"Fail to reject null hypothesis >> Levels of power dont have an impact on the etching rate.\")\n"
   ]
  },
  {
   "cell_type": "markdown",
   "id": "5a8015e9-06d5-4a87-afa7-76817975fbae",
   "metadata": {},
   "source": [
    "#### Parse Power as integer. "
   ]
  },
  {
   "cell_type": "code",
   "execution_count": null,
   "id": "93da8cc7-33dd-4a0d-b829-b9b757455391",
   "metadata": {},
   "outputs": [
    {
     "name": "stdout",
     "output_type": "stream",
     "text": [
      "p value:0.0042\n",
      "Reject null hypothesis >> Levels of power impact the etching rate\n",
      "p value:0.0548\n",
      "Fail to reject null hypothesis >> Levels of power dont have an impact on the etching rate\n"
     ]
    }
   ],
   "source": [
    "power_int = df['Power '].str[:3].astype(str).astype(int)\n",
    "\n",
    "check_normality(power_int)\n",
    "check_normality(df[\"Etching Rate\"])"
   ]
  },
  {
   "cell_type": "code",
   "execution_count": 16,
   "id": "14c39c5a-9719-4cc8-a509-97d579bb498b",
   "metadata": {},
   "outputs": [
    {
     "name": "stdout",
     "output_type": "stream",
     "text": [
      "p value:0.0000\n",
      "Reject null hypothesis >> Levels of power impact the etching rate.\n",
      "degree of freedom is: 14\n"
     ]
    }
   ],
   "source": [
    "check_variance_homogeneity(power_int, df[\"Etching Rate\"])\n",
    "\n",
    "print(\"degree of freedom is: \" +  str(len(df) - 1) )"
   ]
  },
  {
   "cell_type": "code",
   "execution_count": 17,
   "id": "fd52a42d-9477-44a0-9fd9-7d7710676e1d",
   "metadata": {},
   "outputs": [
    {
     "name": "stdout",
     "output_type": "stream",
     "text": [
      "p value:0.00000000\n",
      "since the hypothesis is one sided >> use p_value/2 >> p_value_one_sided:0.0000\n",
      "Reject null hypothesis\n"
     ]
    }
   ],
   "source": [
    "ttest,p_value = stats.ttest_ind(power_int,df[\"Etching Rate\"])\n",
    "print(\"p value:%.8f\" % p_value)\n",
    "print(\"since the hypothesis is one sided >> use p_value/2 >> p_value_one_sided:%.4f\" %(p_value/2))\n",
    "if p_value/2 <0.05:\n",
    "    print(\"Reject null hypothesis\")\n",
    "else:\n",
    "    print(\"Fail to reject null hypothesis\") "
   ]
  },
  {
   "cell_type": "markdown",
   "id": "e332b799-1273-47f3-96ef-eca4dcb69771",
   "metadata": {},
   "source": [
    "#### Conducting ANOVA test"
   ]
  },
  {
   "cell_type": "code",
   "execution_count": 18,
   "id": "e29221e4-76ee-42b4-98a7-1c562ecdd230",
   "metadata": {},
   "outputs": [
    {
     "name": "stdout",
     "output_type": "stream",
     "text": [
      "p value 3.979682622832175e-26\n",
      "reject H0:  Levels of power impact the etching rate\n"
     ]
    }
   ],
   "source": [
    "model = stats.f_oneway(power_int,df[\"Etching Rate\"])\n",
    "print(\"p value\", p_value)\n",
    "if p_value < 0.05:\n",
    "    print(\"reject H0:  Levels of power impact the etching rate\")\n",
    "else:\n",
    "    print(\"we accept H0:  Levels of power impact the etching rate\")"
   ]
  },
  {
   "cell_type": "markdown",
   "id": "cb163ef6-909f-404d-9637-4c57126e2f4a",
   "metadata": {},
   "source": [
    "##### This analysis tells us that the levels of power don't have an impact on the etching rate. "
   ]
  }
 ],
 "metadata": {
  "kernelspec": {
   "display_name": "Python 3 (ipykernel)",
   "language": "python",
   "name": "python3"
  },
  "language_info": {
   "codemirror_mode": {
    "name": "ipython",
    "version": 3
   },
   "file_extension": ".py",
   "mimetype": "text/x-python",
   "name": "python",
   "nbconvert_exporter": "python",
   "pygments_lexer": "ipython3",
   "version": "3.9.12"
  }
 },
 "nbformat": 4,
 "nbformat_minor": 5
}
